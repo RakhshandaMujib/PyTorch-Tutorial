{
 "cells": [
  {
   "cell_type": "markdown",
   "metadata": {},
   "source": [
    "# Hello, Old Friends!"
   ]
  },
  {
   "cell_type": "markdown",
   "metadata": {},
   "source": [
    "Converting a Torch tensor to a NumPy array or Pandas series(and vice versa) is a breeze. This gives PyTorch the ability to work within the Python ecosystem.<br />\n",
    "The Torch tensor and NumPy array or Pandas series will share their underlying memory locations (if the Torch tensor is on CPU), and changing one will change the other."
   ]
  },
  {
   "cell_type": "code",
   "execution_count": 2,
   "metadata": {},
   "outputs": [],
   "source": [
    "import torch \n",
    "import numpy as np\n",
    "import pandas as pd"
   ]
  },
  {
   "cell_type": "markdown",
   "metadata": {},
   "source": [
    "## Converting a Torch tensor to a NumPy array:\n",
    "We use the **tensor.numpy()** method for the same."
   ]
  },
  {
   "cell_type": "code",
   "execution_count": 14,
   "metadata": {},
   "outputs": [
    {
     "data": {
      "text/plain": [
       "tensor([1, 1, 1, 1, 1])"
      ]
     },
     "execution_count": 14,
     "metadata": {},
     "output_type": "execute_result"
    }
   ],
   "source": [
    "an_int_tensor = torch.ones(5, dtype = torch.long)\n",
    "an_int_tensor"
   ]
  },
  {
   "cell_type": "code",
   "execution_count": 22,
   "metadata": {},
   "outputs": [
    {
     "data": {
      "text/plain": [
       "array([1, 1, 1, 1, 1], dtype=int64)"
      ]
     },
     "execution_count": 22,
     "metadata": {},
     "output_type": "execute_result"
    }
   ],
   "source": [
    "to_numpy_arr_int = an_int_tensor.numpy()\n",
    "to_numpy_arr_int"
   ]
  },
  {
   "cell_type": "code",
   "execution_count": 18,
   "metadata": {},
   "outputs": [
    {
     "data": {
      "text/plain": [
       "tensor([[ 3,  2,  4],\n",
       "        [13, 15,  4]])"
      ]
     },
     "execution_count": 18,
     "metadata": {},
     "output_type": "execute_result"
    }
   ],
   "source": [
    "a_float_tensor = torch.randint(1,17,(2,3))\n",
    "a_float_tensor"
   ]
  },
  {
   "cell_type": "code",
   "execution_count": 21,
   "metadata": {},
   "outputs": [
    {
     "data": {
      "text/plain": [
       "array([[ 3,  2,  4],\n",
       "       [13, 15,  4]], dtype=int64)"
      ]
     },
     "execution_count": 21,
     "metadata": {},
     "output_type": "execute_result"
    }
   ],
   "source": [
    "to_numpy_arr = a_float_tensor.numpy()\n",
    "to_numpy_arr"
   ]
  },
  {
   "cell_type": "code",
   "execution_count": 23,
   "metadata": {},
   "outputs": [
    {
     "name": "stdout",
     "output_type": "stream",
     "text": [
      "a_float_tensor is now:\n",
      "tensor([[13, 12, 14],\n",
      "        [23, 25, 14]])\n",
      "\n",
      "Also, to_numpy_arr has changed to:\n",
      "[[13 12 14]\n",
      " [23 25 14]]\n"
     ]
    }
   ],
   "source": [
    "a_float_tensor.add_(10) \n",
    "#In place addition. More on add_() method later. \n",
    "#For now, just know the value passed in as the argument \n",
    "#within the add_() mehtod, will be added to each of the element of the tensor.\n",
    "#This will also change tensor_to_numpy_arr.\n",
    "print(f'an_float_tensor is now:\\n{a_float_tensor}') \n",
    "print(f'\\nAlso, to_numpy_arr has changed to:\\n{to_numpy_arr}')"
   ]
  },
  {
   "cell_type": "markdown",
   "metadata": {},
   "source": [
    "## Converting a NumPy array to Torch tensor:\n",
    "We use the **torch.from_numpy(n)** method to convert a NumPy array n to a torch tensor."
   ]
  },
  {
   "cell_type": "code",
   "execution_count": 42,
   "metadata": {},
   "outputs": [
    {
     "data": {
      "text/plain": [
       "array([5, 4, 3, 2, 1])"
      ]
     },
     "execution_count": 42,
     "metadata": {},
     "output_type": "execute_result"
    }
   ],
   "source": [
    "arr = np.array([5,4,3,2,1])\n",
    "arr"
   ]
  },
  {
   "cell_type": "code",
   "execution_count": 43,
   "metadata": {},
   "outputs": [
    {
     "data": {
      "text/plain": [
       "tensor([5, 4, 3, 2, 1], dtype=torch.int32)"
      ]
     },
     "execution_count": 43,
     "metadata": {},
     "output_type": "execute_result"
    }
   ],
   "source": [
    "arr_to_tensor = torch.from_numpy(arr)\n",
    "arr_to_tensor"
   ]
  },
  {
   "cell_type": "code",
   "execution_count": 44,
   "metadata": {},
   "outputs": [
    {
     "name": "stdout",
     "output_type": "stream",
     "text": [
      "arr is now:\n",
      "[15 14 13 12 11]\n",
      "\n",
      "Also, arr_to_tensor has changed to:\n",
      "tensor([15, 14, 13, 12, 11], dtype=torch.int32)\n"
     ]
    }
   ],
   "source": [
    "np.add(arr, [10]*5, out = arr) #Adding a list of five 10s to arr and storing it in arr.\n",
    "print(f'arr is now:\\n{arr}') \n",
    "print(f'\\nAlso, arr_to_tensor has changed to:\\n{arr_to_tensor}')"
   ]
  },
  {
   "cell_type": "code",
   "execution_count": 45,
   "metadata": {},
   "outputs": [
    {
     "data": {
      "text/plain": [
       "array([15, 14, 13, 12, 11])"
      ]
     },
     "execution_count": 45,
     "metadata": {},
     "output_type": "execute_result"
    }
   ],
   "source": [
    "back_to_arr = arr_to_tensor.numpy()\n",
    "back_to_arr"
   ]
  },
  {
   "cell_type": "code",
   "execution_count": 46,
   "metadata": {},
   "outputs": [
    {
     "name": "stdout",
     "output_type": "stream",
     "text": [
      "Adding 100 to each element of back_to_arr...\n",
      "[115 114 113 112 111]\n",
      "\n",
      "Also changes arr_to_tensor to:\n",
      "tensor([115, 114, 113, 112, 111], dtype=torch.int32)\n",
      "\n",
      "And changes the original array, arr to:\n",
      "[115 114 113 112 111]\n"
     ]
    }
   ],
   "source": [
    "print('Adding 100 to each element of back_to_arr...')\n",
    "print(np.add(back_to_arr, [100]*5, out = back_to_arr))\n",
    "print(f'\\nAlso changes arr_to_tensor to:\\n{arr_to_tensor}')\n",
    "print(f'\\nAnd changes the original array, arr to:\\n{arr}')"
   ]
  },
  {
   "cell_type": "markdown",
   "metadata": {},
   "source": [
    "## Converting a Pandas series to a Torch tensor:\n",
    "We use the same old **torch.from_numpy(n.values)** method with the attribute *values* of a Pandas series n."
   ]
  },
  {
   "cell_type": "code",
   "execution_count": 9,
   "metadata": {},
   "outputs": [
    {
     "data": {
      "text/plain": [
       "0      0.1\n",
       "1      0.2\n",
       "2      0.3\n",
       "3    100.0\n",
       "dtype: float64"
      ]
     },
     "execution_count": 9,
     "metadata": {},
     "output_type": "execute_result"
    }
   ],
   "source": [
    "a_series = pd.Series([0.1,0.2,0.3,100])\n",
    "a_series"
   ]
  },
  {
   "cell_type": "code",
   "execution_count": 10,
   "metadata": {},
   "outputs": [
    {
     "data": {
      "text/plain": [
       "tensor([  0.1000,   0.2000,   0.3000, 100.0000], dtype=torch.float64)"
      ]
     },
     "execution_count": 10,
     "metadata": {},
     "output_type": "execute_result"
    }
   ],
   "source": [
    "series_to_ndarr = a_series.values #Converts the series to a Numpy ndarray.\n",
    "series_to_torch = torch.from_numpy(series_to_ndarr)\n",
    "series_to_torch"
   ]
  },
  {
   "cell_type": "markdown",
   "metadata": {},
   "source": [
    "Note: The conversion can be done in one line as well by passing a_series.values as an argument to torch.from_numpy() (obviously, duh!)."
   ]
  },
  {
   "cell_type": "code",
   "execution_count": 11,
   "metadata": {},
   "outputs": [
    {
     "name": "stdout",
     "output_type": "stream",
     "text": [
      "Adding 10 to each of the elements in the tensor series_to_torch...\n"
     ]
    },
    {
     "data": {
      "text/plain": [
       "tensor([ 10.1000,  10.2000,  10.3000, 110.0000], dtype=torch.float64)"
      ]
     },
     "execution_count": 11,
     "metadata": {},
     "output_type": "execute_result"
    }
   ],
   "source": [
    "print('Adding 10 to each of the elements in the tensor series_to_torch...')\n",
    "series_to_torch.add_(10)"
   ]
  },
  {
   "cell_type": "code",
   "execution_count": 12,
   "metadata": {},
   "outputs": [
    {
     "name": "stdout",
     "output_type": "stream",
     "text": [
      "Also changes the series a_series to:\n"
     ]
    },
    {
     "data": {
      "text/plain": [
       "0     10.1\n",
       "1     10.2\n",
       "2     10.3\n",
       "3    110.0\n",
       "dtype: float64"
      ]
     },
     "execution_count": 12,
     "metadata": {},
     "output_type": "execute_result"
    }
   ],
   "source": [
    "print('Also changes the series a_series to:')\n",
    "a_series"
   ]
  },
  {
   "cell_type": "code",
   "execution_count": 13,
   "metadata": {},
   "outputs": [
    {
     "name": "stdout",
     "output_type": "stream",
     "text": [
      "And changes the series_to_ndarr to:\n"
     ]
    },
    {
     "data": {
      "text/plain": [
       "array([ 10.1,  10.2,  10.3, 110. ])"
      ]
     },
     "execution_count": 13,
     "metadata": {},
     "output_type": "execute_result"
    }
   ],
   "source": [
    "print('And changes the series_to_ndarr to:')\n",
    "series_to_ndarr"
   ]
  },
  {
   "cell_type": "markdown",
   "metadata": {},
   "source": [
    "## Converting a Torch tensor to a Pandas series:\n",
    "We use **pd.Series(n)** method to convert the Torch tensor *n* to a Pandas series."
   ]
  },
  {
   "cell_type": "code",
   "execution_count": 23,
   "metadata": {},
   "outputs": [
    {
     "data": {
      "text/plain": [
       "tensor([3, 0, 4, 2, 7, 6, 5, 1])"
      ]
     },
     "execution_count": 23,
     "metadata": {},
     "output_type": "execute_result"
    }
   ],
   "source": [
    "a_tensor = torch.randperm(8)\n",
    "a_tensor"
   ]
  },
  {
   "cell_type": "code",
   "execution_count": 24,
   "metadata": {},
   "outputs": [
    {
     "data": {
      "text/plain": [
       "0    3\n",
       "1    0\n",
       "2    4\n",
       "3    2\n",
       "4    7\n",
       "5    6\n",
       "6    5\n",
       "7    1\n",
       "dtype: int64"
      ]
     },
     "execution_count": 24,
     "metadata": {},
     "output_type": "execute_result"
    }
   ],
   "source": [
    "to_series = pd.Series(a_tensor)\n",
    "to_series"
   ]
  },
  {
   "cell_type": "code",
   "execution_count": 25,
   "metadata": {},
   "outputs": [
    {
     "data": {
      "text/plain": [
       "tensor([13, 10, 14, 12, 17, 16, 15, 11])"
      ]
     },
     "execution_count": 25,
     "metadata": {},
     "output_type": "execute_result"
    }
   ],
   "source": [
    "print('Adding 10 to each of the elements in the tensor a_tensor...')\n",
    "a_tensor.add_(10)"
   ]
  },
  {
   "cell_type": "code",
   "execution_count": 26,
   "metadata": {},
   "outputs": [
    {
     "data": {
      "text/plain": [
       "0    13\n",
       "1    10\n",
       "2    14\n",
       "3    12\n",
       "4    17\n",
       "5    16\n",
       "6    15\n",
       "7    11\n",
       "dtype: int64"
      ]
     },
     "execution_count": 26,
     "metadata": {},
     "output_type": "execute_result"
    }
   ],
   "source": [
    "print('Also changes the series to_series to:')\n",
    "to_series"
   ]
  },
  {
   "cell_type": "markdown",
   "metadata": {},
   "source": [
    "That's all for now. See you soon. Happy practicing! =)"
   ]
  },
  {
   "cell_type": "code",
   "execution_count": null,
   "metadata": {},
   "outputs": [],
   "source": []
  }
 ],
 "metadata": {
  "kernelspec": {
   "display_name": "Python 3",
   "language": "python",
   "name": "python3"
  },
  "language_info": {
   "codemirror_mode": {
    "name": "ipython",
    "version": 3
   },
   "file_extension": ".py",
   "mimetype": "text/x-python",
   "name": "python",
   "nbconvert_exporter": "python",
   "pygments_lexer": "ipython3",
   "version": "3.7.1"
  }
 },
 "nbformat": 4,
 "nbformat_minor": 2
}
