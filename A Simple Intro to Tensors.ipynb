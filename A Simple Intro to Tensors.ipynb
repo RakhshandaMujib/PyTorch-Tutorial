{
 "cells": [
  {
   "cell_type": "markdown",
   "metadata": {},
   "source": [
    "# 1D Tensors"
   ]
  },
  {
   "cell_type": "markdown",
   "metadata": {},
   "source": [
    "Tensor- A mathematical object analogous to but more general than a vector, represented by an array of components that are functions of the coordinates of a space.\n",
    "\n",
    "That was a copied definition straight from Google. In simple words, for now, you think of a tensor as an array of data. That's it."
   ]
  },
  {
   "cell_type": "markdown",
   "metadata": {},
   "source": [
    "**Import the gorgeous library:**"
   ]
  },
  {
   "cell_type": "code",
   "execution_count": 1,
   "metadata": {},
   "outputs": [],
   "source": [
    "import torch"
   ]
  },
  {
   "cell_type": "markdown",
   "metadata": {},
   "source": [
    "**Creating a simple tensor:**\n",
    "<br />Casting the list into a tensor by using the torch.tensor constructor."
   ]
  },
  {
   "cell_type": "code",
   "execution_count": 5,
   "metadata": {},
   "outputs": [
    {
     "data": {
      "text/plain": [
       "tensor([  7,   6,   5,   8,   9,  12,  13, -90])"
      ]
     },
     "execution_count": 5,
     "metadata": {},
     "output_type": "execute_result"
    }
   ],
   "source": [
    "a_list = [7,6,5,8,9,12,13,-90]\n",
    "simple_tensor = torch.tensor(a_list) \n",
    "simple_tensor"
   ]
  },
  {
   "cell_type": "markdown",
   "metadata": {},
   "source": [
    "**Acessing the data in a tensor:**<br />\n",
    "We use indexing and slicing just like we do in case of a list."
   ]
  },
  {
   "cell_type": "code",
   "execution_count": 11,
   "metadata": {},
   "outputs": [
    {
     "name": "stdout",
     "output_type": "stream",
     "text": [
      "The data at the last index value is: -90\n",
      "Slicing done from 2nd to 5th indices: tensor([ 5,  8,  9, 12])\n",
      "The third data in the slice [4:8] is: 13\n"
     ]
    }
   ],
   "source": [
    "print(f'The data at the last index value is: {simple_tensor[-1]}')\n",
    "print(f'Slicing done from 2nd to 5th indices: {simple_tensor[2:6]}')\n",
    "print(f'The third data in the slice [4:8] is: {simple_tensor[4:9][2]}')"
   ]
  },
  {
   "cell_type": "markdown",
   "metadata": {},
   "source": [
    "**The *dtype* attribute:**<br />\n",
    "The data type attribute *dtype* is used to find the type of *value stored within the tensor*."
   ]
  },
  {
   "cell_type": "code",
   "execution_count": 13,
   "metadata": {},
   "outputs": [
    {
     "name": "stdout",
     "output_type": "stream",
     "text": [
      "The data within simple_tensor is of type torch.int64.\n"
     ]
    }
   ],
   "source": [
    "print(f'The data within simple_tensor is of type {simple_tensor.dtype}.')"
   ]
  },
  {
   "cell_type": "markdown",
   "metadata": {},
   "source": [
    "**The *type()* method:** <br />\n",
    "The *type()* method is used to find out the *type of the tensor*. "
   ]
  },
  {
   "cell_type": "code",
   "execution_count": 14,
   "metadata": {},
   "outputs": [
    {
     "name": "stdout",
     "output_type": "stream",
     "text": [
      "simple_tensor is a torch.LongTensor type tensor.\n"
     ]
    }
   ],
   "source": [
    "print(f'simple_tensor is a {simple_tensor.type()} type tensor.')"
   ]
  },
  {
   "cell_type": "markdown",
   "metadata": {},
   "source": [
    "**A float tensor:**"
   ]
  },
  {
   "cell_type": "code",
   "execution_count": 16,
   "metadata": {},
   "outputs": [
    {
     "name": "stdout",
     "output_type": "stream",
     "text": [
      "Type of data in fl_tensor is: torch.float32.\n",
      "fl_tensor is in fact, a torch.FloatTensor.\n"
     ]
    }
   ],
   "source": [
    "fl_tensor = torch.tensor([1.2,1.0,3.4,2,6.9])\n",
    "print(f'Type of data in fl_tensor is: {fl_tensor.dtype}.')\n",
    "print(f'fl_tensor is in fact, a {fl_tensor.type()}.')"
   ]
  },
  {
   "cell_type": "markdown",
   "metadata": {},
   "source": [
    "**Type casting a tensor:**<br />\n",
    "We can specify the datatype of the data present within the tensor overriding the dtype attribute in the constructor."
   ]
  },
  {
   "cell_type": "code",
   "execution_count": 20,
   "metadata": {},
   "outputs": [
    {
     "name": "stdout",
     "output_type": "stream",
     "text": [
      "Well, am_i_float contains torch.int32 type of data and its data are tensor([1, 1, 3, 2, 6], dtype=torch.int32).\n"
     ]
    }
   ],
   "source": [
    "am_i_float = torch.tensor([1.2,1.0,3.4,2,6.9], dtype = torch.int32)\n",
    "print(f'Well, am_i_float contains {am_i_float.dtype} type of data and its data are {am_i_float}.')"
   ]
  },
  {
   "cell_type": "code",
   "execution_count": 23,
   "metadata": {},
   "outputs": [
    {
     "name": "stdout",
     "output_type": "stream",
     "text": [
      "Guess who just got converted to float? ;)\n",
      "am_i_int contains: tensor([  7.,   6.,   5.,   8.,   9.,  12.,  13., -90.], dtype=torch.float64)\n"
     ]
    }
   ],
   "source": [
    "am_i_int = torch.tensor(a_list, dtype = torch.float64)\n",
    "print('Guess who just got converted to float? ;)')\n",
    "print(f'am_i_int contains: {am_i_int}')"
   ]
  },
  {
   "cell_type": "markdown",
   "metadata": {},
   "source": [
    "**Explicitly creating tensors of a specific type:** <br />\n",
    "By specifying the type of the tensor during its initialization."
   ]
  },
  {
   "cell_type": "code",
   "execution_count": 24,
   "metadata": {},
   "outputs": [
    {
     "name": "stdout",
     "output_type": "stream",
     "text": [
      "i_want_a_float_tensor contains tensor([  7.,   6.,   5.,   8.,   9.,  12.,  13., -90.])and is of type torch.FloatTensor.\n"
     ]
    }
   ],
   "source": [
    "i_want_a_float_tensor = torch.FloatTensor(a_list)\n",
    "print(f'i_want_a_float_tensor contains {i_want_a_float_tensor}\\\n",
    "and is of type {i_want_a_float_tensor.type()}.')"
   ]
  },
  {
   "cell_type": "markdown",
   "metadata": {},
   "source": [
    "**Changing the type of a tensor:**<br /> \n",
    "By specifying the type needed as an argument for the type() method."
   ]
  },
  {
   "cell_type": "code",
   "execution_count": 33,
   "metadata": {},
   "outputs": [
    {
     "name": "stdout",
     "output_type": "stream",
     "text": [
      "before is a torch.LongTensor type of tensor\n",
      "with values tensor([  7,   6,   5,   8,   9,  12,  13, -90])\n",
      "whose data type is torch.int64.\n",
      "\n",
      "Tada!\n",
      "\n",
      "after became a torch.FloatTensor type of tensor\n",
      "with values tensor([  7.,   6.,   5.,   8.,   9.,  12.,  13., -90.])\n",
      "whose datastype is torch.float32!\n"
     ]
    }
   ],
   "source": [
    "before = torch.tensor(a_list)\n",
    "print(f'before is a {before.type()} type of tensor\\n\\\n",
    "with values {before}\\n\\\n",
    "whose data type is {before.dtype}.')\n",
    "after = before.type(torch.FloatTensor)\n",
    "print('\\nTada!\\n')\n",
    "print(f'after became a {after.type()} type of tensor\\nwith values {after}\\n\\\n",
    "whose datastype is {after.dtype}!')"
   ]
  },
  {
   "cell_type": "markdown",
   "metadata": {},
   "source": [
    "Also, worth noting, we can specify the data type of the values within the tensor as an argument to type() method. It more or less does the same stuff."
   ]
  },
  {
   "cell_type": "code",
   "execution_count": 35,
   "metadata": {},
   "outputs": [
    {
     "name": "stdout",
     "output_type": "stream",
     "text": [
      "after_reboot is also a torch.FloatTensor type of tensor\n",
      "with values tensor([  7.,   6.,   5.,   8.,   9.,  12.,  13., -90.])\n",
      "whose data type is torch.float32.\n"
     ]
    }
   ],
   "source": [
    "after_reboot = before.type(torch.float32)\n",
    "print(f'after_reboot is also a {after_reboot.type()} type of tensor')\n",
    "print(f'with values {after_reboot}')\n",
    "print(f'whose data type is {after_reboot.dtype}.')"
   ]
  },
  {
   "cell_type": "markdown",
   "metadata": {},
   "source": [
    "**The *size()* and *ndimension()* methods:** <br />\n",
    "* size()- Gives the number of elements present in the tensor.\n",
    "* ndimension()- Gives the dimension of the tensor."
   ]
  },
  {
   "cell_type": "code",
   "execution_count": 41,
   "metadata": {},
   "outputs": [
    {
     "name": "stdout",
     "output_type": "stream",
     "text": [
      "The test_tensor has values-\n",
      "tensor([  7,   6,   5,   8,   9,  12,  13, -90]),\n",
      "its size is torch.Size([8]),\n",
      "and its dimension is 1.\n"
     ]
    }
   ],
   "source": [
    "test_tensor = torch.tensor(a_list)\n",
    "print(f'The test_tensor has values-\\n{test_tensor},\\n\\\n",
    "its size is {test_tensor.size()},\\n\\\n",
    "and its dimension is {test_tensor.ndimension()}.')"
   ]
  },
  {
   "cell_type": "markdown",
   "metadata": {},
   "source": [
    "**The view() method:** <br />\n",
    "In some cases, our neural networks may need 2D tensors as input while all we may have is a 1D tensor. In such cases, we would want to convert a 1D tensor to a 2D tensor which is exactly what we use the view() method for.<br />\n",
    "*view(x,y)* would transform a tensor of any dimension to two dimensions having x rows and y columns. "
   ]
  },
  {
   "cell_type": "code",
   "execution_count": 46,
   "metadata": {},
   "outputs": [
    {
     "name": "stdout",
     "output_type": "stream",
     "text": [
      "Now, test_tensor is a 2D tensor with 8 rows and 1 column and it looks like:\n",
      "tensor([[  7],\n",
      "        [  6],\n",
      "        [  5],\n",
      "        [  8],\n",
      "        [  9],\n",
      "        [ 12],\n",
      "        [ 13],\n",
      "        [-90]])\n"
     ]
    }
   ],
   "source": [
    "test_col = test_tensor.view(8,1)\n",
    "print(f'Now, test_tensor is a 2D tensor with 8 rows and 1 column \\\n",
    "and it looks like:\\n{test_col}')"
   ]
  },
  {
   "cell_type": "markdown",
   "metadata": {},
   "source": [
    "If we do not know the number of rows or we do not want to specify it explicitly, we can pass in -1 as the first argument and the number of columns as the second argument."
   ]
  },
  {
   "cell_type": "code",
   "execution_count": 51,
   "metadata": {},
   "outputs": [
    {
     "name": "stdout",
     "output_type": "stream",
     "text": [
      "If test_tensor were to have 4 columns, it will look like:\n"
     ]
    },
    {
     "data": {
      "text/plain": [
       "tensor([[  7,   6,   5,   8],\n",
       "        [  9,  12,  13, -90]])"
      ]
     },
     "execution_count": 51,
     "metadata": {},
     "output_type": "execute_result"
    }
   ],
   "source": [
    "print(f'If test_tensor were to have 4 columns, it will look like:')\n",
    "test_tensor.view(-1,4)"
   ]
  },
  {
   "cell_type": "markdown",
   "metadata": {},
   "source": [
    "Let's see what happens when the number of columns is not a factor of the total number of elements present in the tesnsor."
   ]
  },
  {
   "cell_type": "code",
   "execution_count": 50,
   "metadata": {},
   "outputs": [
    {
     "ename": "RuntimeError",
     "evalue": "shape '[-1, 5]' is invalid for input of size 8",
     "output_type": "error",
     "traceback": [
      "\u001b[1;31m---------------------------------------------------------------------------\u001b[0m",
      "\u001b[1;31mRuntimeError\u001b[0m                              Traceback (most recent call last)",
      "\u001b[1;32m<ipython-input-50-e6829a372106>\u001b[0m in \u001b[0;36m<module>\u001b[1;34m\u001b[0m\n\u001b[1;32m----> 1\u001b[1;33m \u001b[0mtest_tensor\u001b[0m\u001b[1;33m.\u001b[0m\u001b[0mview\u001b[0m\u001b[1;33m(\u001b[0m\u001b[1;33m-\u001b[0m\u001b[1;36m1\u001b[0m\u001b[1;33m,\u001b[0m\u001b[1;36m5\u001b[0m\u001b[1;33m)\u001b[0m\u001b[1;33m\u001b[0m\u001b[1;33m\u001b[0m\u001b[0m\n\u001b[0m",
      "\u001b[1;31mRuntimeError\u001b[0m: shape '[-1, 5]' is invalid for input of size 8"
     ]
    }
   ],
   "source": [
    "test_tensor.view(-1,5)"
   ]
  },
  {
   "cell_type": "markdown",
   "metadata": {},
   "source": [
    "As expected, it throws an error."
   ]
  },
  {
   "cell_type": "markdown",
   "metadata": {},
   "source": [
    "**The *torch.is_tensor()* method:** <br />\n",
    "It takes in one positional argument- the object that we wish to test for being a tensor or not- and returns a boolean value.  "
   ]
  },
  {
   "cell_type": "code",
   "execution_count": 73,
   "metadata": {},
   "outputs": [
    {
     "data": {
      "text/plain": [
       "True"
      ]
     },
     "execution_count": 73,
     "metadata": {},
     "output_type": "execute_result"
    }
   ],
   "source": [
    "torch.is_tensor(test_tensor)"
   ]
  },
  {
   "cell_type": "code",
   "execution_count": 74,
   "metadata": {},
   "outputs": [
    {
     "data": {
      "text/plain": [
       "False"
      ]
     },
     "execution_count": 74,
     "metadata": {},
     "output_type": "execute_result"
    }
   ],
   "source": [
    "torch.is_tensor(45)"
   ]
  },
  {
   "cell_type": "markdown",
   "metadata": {},
   "source": [
    "but..."
   ]
  },
  {
   "cell_type": "code",
   "execution_count": 76,
   "metadata": {},
   "outputs": [
    {
     "data": {
      "text/plain": [
       "True"
      ]
     },
     "execution_count": 76,
     "metadata": {},
     "output_type": "execute_result"
    }
   ],
   "source": [
    "i_am_45 = torch.tensor(45)\n",
    "torch.is_tensor(i_am_45)"
   ]
  },
  {
   "cell_type": "markdown",
   "metadata": {},
   "source": [
    "For now, that is it! Next, we'll see how we can create tensors in different ways. "
   ]
  }
 ],
 "metadata": {
  "kernelspec": {
   "display_name": "Python 3",
   "language": "python",
   "name": "python3"
  },
  "language_info": {
   "codemirror_mode": {
    "name": "ipython",
    "version": 3
   },
   "file_extension": ".py",
   "mimetype": "text/x-python",
   "name": "python",
   "nbconvert_exporter": "python",
   "pygments_lexer": "ipython3",
   "version": "3.7.1"
  }
 },
 "nbformat": 4,
 "nbformat_minor": 2
}
