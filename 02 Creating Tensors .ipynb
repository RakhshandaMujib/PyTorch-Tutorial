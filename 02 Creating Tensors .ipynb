{
 "cells": [
  {
   "cell_type": "code",
   "execution_count": 1,
   "metadata": {},
   "outputs": [],
   "source": [
    "import torch"
   ]
  },
  {
   "cell_type": "markdown",
   "metadata": {},
   "source": [
    "# Creating not so simple yet simple tensors: \n",
    "In the previous cases, we have given a list of our own data to create tensors. For instance a 2-D tensor can be created as: "
   ]
  },
  {
   "cell_type": "code",
   "execution_count": 107,
   "metadata": {},
   "outputs": [
    {
     "data": {
      "text/plain": [
       "tensor([[ 1, 23],\n",
       "        [ 5, 36],\n",
       "        [ 7, 19]])"
      ]
     },
     "execution_count": 107,
     "metadata": {},
     "output_type": "execute_result"
    }
   ],
   "source": [
    "my_tensor = torch.tensor([[1,23],[5,36],[7,19]])\n",
    "my_tensor"
   ]
  },
  {
   "cell_type": "markdown",
   "metadata": {},
   "source": [
    "Here, we are going to look at some ways of creating tensors with random values and special values. These might be important for model-testing and a hundred other purposes that random numbers are used for."
   ]
  },
  {
   "cell_type": "markdown",
   "metadata": {},
   "source": [
    "We are going to use the following methods for creating tensors with random values:\n",
    "* torch.rand(x,y)\n",
    "* torch.rand_like(z)\n",
    "* torch.randn(x,y)\n",
    "* torch.randn_like(z)\n",
    "* torch.randint(low, high, (x,y))\n",
    "* torch.randint_like(z, low, high)\n",
    "* torch.empty(x, y)<br /><br />"
   ]
  },
  {
   "cell_type": "markdown",
   "metadata": {},
   "source": [
    "And, for tensors with some special values and settings we will use the following:\n",
    "* torch.randperm(n)\n",
    "* torch.ones(x,y)\n",
    "* torch.ones_like(z)\n",
    "* new_ones(x,y)\n",
    "* torch.zeros(x,y)\n",
    "* torch.zeros_like(z)\n",
    "* torch.eye(n)\n",
    "* torch.full((x,y), n)\n",
    "* torch.full_like(z, n)\n",
    "* torch.arange(low, high, step)"
   ]
  },
  {
   "cell_type": "markdown",
   "metadata": {},
   "source": [
    "## Creating tensors with random values:"
   ]
  },
  {
   "cell_type": "markdown",
   "metadata": {},
   "source": [
    "* **torch.rand(x,y)** - Returns a tensor with random numbers from a uniform distribution of shape (x,y)."
   ]
  },
  {
   "cell_type": "code",
   "execution_count": 53,
   "metadata": {},
   "outputs": [
    {
     "data": {
      "text/plain": [
       "tensor([[0.4941, 0.1790, 0.8202, 0.2417, 0.0051],\n",
       "        [0.5462, 0.7419, 0.8478, 0.6188, 0.1538],\n",
       "        [0.5898, 0.5122, 0.5139, 0.4814, 0.7223]])"
      ]
     },
     "execution_count": 53,
     "metadata": {},
     "output_type": "execute_result"
    }
   ],
   "source": [
    "a = torch.rand(3,5) #Can't override dtype here to torch.long.\n",
    "a"
   ]
  },
  {
   "cell_type": "markdown",
   "metadata": {},
   "source": [
    "* **torch.rand_like(z)** - Takes in the tensor z as argument and returns another tensor of values picked up from a distribution similar to that of z's distribution with the same shape as z."
   ]
  },
  {
   "cell_type": "code",
   "execution_count": 58,
   "metadata": {},
   "outputs": [
    {
     "data": {
      "text/plain": [
       "tensor([[0.3830, 0.2998, 0.8216, 0.1905, 0.0302],\n",
       "        [0.2867, 0.4144, 0.0774, 0.9531, 0.2947],\n",
       "        [0.7728, 0.7527, 0.9572, 0.2799, 0.9857]], dtype=torch.float64)"
      ]
     },
     "execution_count": 58,
     "metadata": {},
     "output_type": "execute_result"
    }
   ],
   "source": [
    "like_a = torch.rand_like(a, dtype = torch.double) #..but we can override dtype to double.\n",
    "like_a"
   ]
  },
  {
   "cell_type": "markdown",
   "metadata": {},
   "source": [
    "* **torch.randn(x,y)** - Returns a tensor with random numbers from a normal distribution with standard deviation 1 and mean 0, of shape (x,y)."
   ]
  },
  {
   "cell_type": "code",
   "execution_count": 55,
   "metadata": {},
   "outputs": [
    {
     "data": {
      "text/plain": [
       "tensor([[ 0.8403, -0.3458,  0.5760,  1.1836],\n",
       "        [ 1.7014, -1.7222, -2.4605,  0.9948]], dtype=torch.float64)"
      ]
     },
     "execution_count": 55,
     "metadata": {},
     "output_type": "execute_result"
    }
   ],
   "source": [
    "b = torch.randn(2,4, dtype = torch.double)\n",
    "b"
   ]
  },
  {
   "cell_type": "markdown",
   "metadata": {},
   "source": [
    "* **torch.randn_like(z)** - Takes in the tensor z as argument and returns another tensor of values picked up from a distribution similar to that of z's normal distribution with the same shape as z.\n"
   ]
  },
  {
   "cell_type": "code",
   "execution_count": 59,
   "metadata": {},
   "outputs": [
    {
     "data": {
      "text/plain": [
       "tensor([[ 0.4594,  1.4441, -0.1403, -2.1724],\n",
       "        [-0.1906, -0.1553,  0.5925, -0.5559]], dtype=torch.float64)"
      ]
     },
     "execution_count": 59,
     "metadata": {},
     "output_type": "execute_result"
    }
   ],
   "source": [
    "like_b = torch.randn_like(b)\n",
    "like_b"
   ]
  },
  {
   "cell_type": "markdown",
   "metadata": {},
   "source": [
    "What if we use torch.randn_like() to generate a tensor like the tensor *a* which was used using torch.rand()?"
   ]
  },
  {
   "cell_type": "code",
   "execution_count": 60,
   "metadata": {},
   "outputs": [
    {
     "name": "stdout",
     "output_type": "stream",
     "text": [
      "tensor([[-0.6490, -0.4780, -0.8137, -0.5156,  0.9069],\n",
      "        [-0.2891, -0.1667, -1.6234, -1.4662, -0.2948],\n",
      "        [ 0.9188, -0.6610, -1.2913,  1.7852, -1.3573]])\n",
      "\n",
      "is_like_a:\n",
      "torch.FloatTensor\n",
      "torch.float32\n",
      "\n",
      "a:\n",
      "torch.FloatTensor\n",
      "torch.float32\n"
     ]
    }
   ],
   "source": [
    "is_like_a = torch.randn_like(a)\n",
    "print(is_like_a)\n",
    "print('\\nis_like_a:')\n",
    "print(is_like_a.type())\n",
    "print(is_like_a.dtype)\n",
    "print('\\na:')\n",
    "print(a.type())\n",
    "print(a.dtype)"
   ]
  },
  {
   "cell_type": "markdown",
   "metadata": {},
   "source": [
    "There probably is no difference in the type as expected."
   ]
  },
  {
   "cell_type": "markdown",
   "metadata": {},
   "source": [
    "* **torch.randint(low, high, (x,y))**- Returns a tensor filled with random integers generated uniformly between low (inclusive) and high (exclusive) of shape (x,y). Providing the lower limit is optional (by default it is set to 0)"
   ]
  },
  {
   "cell_type": "code",
   "execution_count": 48,
   "metadata": {},
   "outputs": [
    {
     "data": {
      "text/plain": [
       "tensor([[ 9,  1, 11,  0,  3, 12,  8,  7],\n",
       "        [ 4,  1,  7,  7,  2,  0,  7,  3],\n",
       "        [ 7,  7,  0,  6,  2,  5,  6,  6],\n",
       "        [11,  7, 11,  0,  7, 10,  3,  9]])"
      ]
     },
     "execution_count": 48,
     "metadata": {},
     "output_type": "execute_result"
    }
   ],
   "source": [
    "c = torch.randint(13,(4,8))\n",
    "c"
   ]
  },
  {
   "cell_type": "code",
   "execution_count": 49,
   "metadata": {},
   "outputs": [
    {
     "data": {
      "text/plain": [
       "tensor([[10.,  1., 11., 12.,  8.,  4., 12.,  9.],\n",
       "        [ 4.,  1.,  9.,  6.,  0., 10., 12.,  0.],\n",
       "        [ 4.,  5., 11.,  9.,  6.,  3.,  1.,  0.],\n",
       "        [ 7.,  9.,  4.,  5.,  0., 12.,  0.,  2.]])"
      ]
     },
     "execution_count": 49,
     "metadata": {},
     "output_type": "execute_result"
    }
   ],
   "source": [
    "c1 = torch.randint(13,(4,8), dtype = torch.float) #We can override the dtype here as well.\n",
    "c1"
   ]
  },
  {
   "cell_type": "markdown",
   "metadata": {},
   "source": [
    "* **torch.randint_like(z, low, high)**- Takes in the tensor z as argument and returns another tensor filled with random integers generated uniformly between low (inclusive and optional) and high (exclusive) with the same shape as z."
   ]
  },
  {
   "cell_type": "code",
   "execution_count": 47,
   "metadata": {},
   "outputs": [
    {
     "data": {
      "text/plain": [
       "tensor([[17., 13.,  9.,  8., 13.,  7., 15.,  8.],\n",
       "        [11.,  9., 17., 16.,  5., 11., 18.,  4.],\n",
       "        [12., 15.,  5.,  4., 10.,  7., 10.,  7.],\n",
       "        [ 9., 18., 11., 15.,  7.,  6.,  8., 14.]])"
      ]
     },
     "execution_count": 47,
     "metadata": {},
     "output_type": "execute_result"
    }
   ],
   "source": [
    "torch.randint_like(c, 3, 19)"
   ]
  },
  {
   "cell_type": "markdown",
   "metadata": {},
   "source": [
    "* **torch.empty(x, y)**- Returns a tensor with uninitialized data (holds garbage values) of shape (x,y). The values are sampled from a broader range of distribution."
   ]
  },
  {
   "cell_type": "code",
   "execution_count": 34,
   "metadata": {},
   "outputs": [
    {
     "data": {
      "text/plain": [
       "tensor([[0.0000e+00, 6.4460e-44, 1.8754e+28],\n",
       "        [5.1481e+22, 1.3424e-05, 1.2812e-11]])"
      ]
     },
     "execution_count": 34,
     "metadata": {},
     "output_type": "execute_result"
    }
   ],
   "source": [
    "e = torch.empty(2,3)\n",
    "e"
   ]
  },
  {
   "cell_type": "markdown",
   "metadata": {},
   "source": [
    "## Creating tensors with some special values and settings:"
   ]
  },
  {
   "cell_type": "markdown",
   "metadata": {},
   "source": [
    "* **torch.randperm(n)** - Returns a 1-D tensor filled with random permutation of integers from 0 to n - 1 of size n. "
   ]
  },
  {
   "cell_type": "code",
   "execution_count": 32,
   "metadata": {},
   "outputs": [
    {
     "data": {
      "text/plain": [
       "tensor([ 5, 11,  0,  9,  3,  1,  8, 13,  4, 10, 12,  7,  2,  6])"
      ]
     },
     "execution_count": 32,
     "metadata": {},
     "output_type": "execute_result"
    }
   ],
   "source": [
    "d = torch.randperm(14)\n",
    "d"
   ]
  },
  {
   "cell_type": "markdown",
   "metadata": {},
   "source": [
    "* **torch.ones(x,y)**- Returns a tensor filled with the scalar value 1, with the shape defined by the variable argument size."
   ]
  },
  {
   "cell_type": "code",
   "execution_count": 40,
   "metadata": {},
   "outputs": [
    {
     "data": {
      "text/plain": [
       "tensor([[1., 1., 1.],\n",
       "        [1., 1., 1.]])"
      ]
     },
     "execution_count": 40,
     "metadata": {},
     "output_type": "execute_result"
    }
   ],
   "source": [
    "f = torch.ones(2,3)\n",
    "f"
   ]
  },
  {
   "cell_type": "code",
   "execution_count": 37,
   "metadata": {},
   "outputs": [
    {
     "data": {
      "text/plain": [
       "torch.float32"
      ]
     },
     "execution_count": 37,
     "metadata": {},
     "output_type": "execute_result"
    }
   ],
   "source": [
    "f.dtype"
   ]
  },
  {
   "cell_type": "markdown",
   "metadata": {},
   "source": [
    "* **torch.ones_like(z)**- Returns a tensor filled with the scalar value 1, with the same shape and type as z."
   ]
  },
  {
   "cell_type": "code",
   "execution_count": 41,
   "metadata": {},
   "outputs": [
    {
     "data": {
      "text/plain": [
       "tensor([[1, 1, 1],\n",
       "        [1, 1, 1]])"
      ]
     },
     "execution_count": 41,
     "metadata": {},
     "output_type": "execute_result"
    }
   ],
   "source": [
    "like_f = torch.ones_like(f, dtype = torch.long) #Overriding the dtype\n",
    "like_f"
   ]
  },
  {
   "cell_type": "markdown",
   "metadata": {},
   "source": [
    "We can also use the **new_ones(x,y)** method along with an existing tensor to get a tensor filled with 1's of shape (x,y) with the dtype of the tensor used. "
   ]
  },
  {
   "cell_type": "code",
   "execution_count": 62,
   "metadata": {},
   "outputs": [
    {
     "data": {
      "text/plain": [
       "tensor([[1., 1.],\n",
       "        [1., 1.],\n",
       "        [1., 1.],\n",
       "        [1., 1.]])"
      ]
     },
     "execution_count": 62,
     "metadata": {},
     "output_type": "execute_result"
    }
   ],
   "source": [
    "ones_like_f = f.new_ones(4,2)\n",
    "ones_like_f"
   ]
  },
  {
   "cell_type": "code",
   "execution_count": 61,
   "metadata": {},
   "outputs": [
    {
     "data": {
      "text/plain": [
       "tensor([[1, 1],\n",
       "        [1, 1],\n",
       "        [1, 1],\n",
       "        [1, 1]])"
      ]
     },
     "execution_count": 61,
     "metadata": {},
     "output_type": "execute_result"
    }
   ],
   "source": [
    "ones_like_like_f = like_f.new_ones(4,2)\n",
    "ones_like_like_f"
   ]
  },
  {
   "cell_type": "markdown",
   "metadata": {},
   "source": [
    "* **torch.zeros(x,y)**- Returns a tensor filled with the scalar value 0, with the shape (x,y)."
   ]
  },
  {
   "cell_type": "code",
   "execution_count": 63,
   "metadata": {},
   "outputs": [
    {
     "data": {
      "text/plain": [
       "tensor([[0., 0.],\n",
       "        [0., 0.],\n",
       "        [0., 0.]])"
      ]
     },
     "execution_count": 63,
     "metadata": {},
     "output_type": "execute_result"
    }
   ],
   "source": [
    "g = torch.zeros(3,2)\n",
    "g"
   ]
  },
  {
   "cell_type": "markdown",
   "metadata": {},
   "source": [
    "* **torch.zeros_like(z)**- Returns a tensor filled with the scalar value 0, with the same shape and type as z."
   ]
  },
  {
   "cell_type": "code",
   "execution_count": 68,
   "metadata": {},
   "outputs": [
    {
     "data": {
      "text/plain": [
       "tensor([[0., 0.],\n",
       "        [0., 0.],\n",
       "        [0., 0.]])"
      ]
     },
     "execution_count": 68,
     "metadata": {},
     "output_type": "execute_result"
    }
   ],
   "source": [
    "like_g = torch.zeros_like(g)\n",
    "like_g"
   ]
  },
  {
   "cell_type": "markdown",
   "metadata": {},
   "source": [
    "* **torch.eye(n)**- Returns a 2-D square tensor of size n, with ones on the diagonal and zeros elsewhere."
   ]
  },
  {
   "cell_type": "code",
   "execution_count": 74,
   "metadata": {},
   "outputs": [
    {
     "data": {
      "text/plain": [
       "tensor([[1, 0, 0, 0],\n",
       "        [0, 1, 0, 0],\n",
       "        [0, 0, 1, 0],\n",
       "        [0, 0, 0, 1]])"
      ]
     },
     "execution_count": 74,
     "metadata": {},
     "output_type": "execute_result"
    }
   ],
   "source": [
    "h = torch.eye(4, dtype = torch.long) #Default dtype is torch.float32\n",
    "h"
   ]
  },
  {
   "cell_type": "markdown",
   "metadata": {},
   "source": [
    "* **torch.full((x,y), n)**- Returns a tensor of shape (x,y) filled with n."
   ]
  },
  {
   "cell_type": "code",
   "execution_count": 77,
   "metadata": {},
   "outputs": [
    {
     "data": {
      "text/plain": [
       "tensor([[782., 782., 782., 782., 782., 782.],\n",
       "        [782., 782., 782., 782., 782., 782.],\n",
       "        [782., 782., 782., 782., 782., 782.]])"
      ]
     },
     "execution_count": 77,
     "metadata": {},
     "output_type": "execute_result"
    }
   ],
   "source": [
    "i = torch.full((3,6), 782)\n",
    "i"
   ]
  },
  {
   "cell_type": "markdown",
   "metadata": {},
   "source": [
    "* **torch.full_like(z, n)**- Returns a tensor of the same shape as z filled with n."
   ]
  },
  {
   "cell_type": "code",
   "execution_count": 81,
   "metadata": {},
   "outputs": [
    {
     "data": {
      "text/plain": [
       "tensor([[44, 44, 44, 44, 44, 44],\n",
       "        [44, 44, 44, 44, 44, 44],\n",
       "        [44, 44, 44, 44, 44, 44]])"
      ]
     },
     "execution_count": 81,
     "metadata": {},
     "output_type": "execute_result"
    }
   ],
   "source": [
    "like_i = torch.full_like(i, 44, dtype = torch.long) \n",
    "like_i"
   ]
  },
  {
   "cell_type": "markdown",
   "metadata": {},
   "source": [
    "* **torch.arange(low, high, step)**- Returns a tensor starting from low (inclusive) to high (exclusive) incremented by step steps."
   ]
  },
  {
   "cell_type": "code",
   "execution_count": 100,
   "metadata": {},
   "outputs": [
    {
     "data": {
      "text/plain": [
       "tensor([  5.,   3.,   1.,  -1.,  -3.,  -5.,  -7.,  -9., -11., -13.])"
      ]
     },
     "execution_count": 100,
     "metadata": {},
     "output_type": "execute_result"
    }
   ],
   "source": [
    "j = torch.arange(5, -15, -2, dtype = torch.float32) #Overriding the dtype to torch.float32. Default is torch.long.\n",
    "j"
   ]
  },
  {
   "cell_type": "markdown",
   "metadata": {},
   "source": [
    "That's it for now. See you soon!"
   ]
  }
 ],
 "metadata": {
  "kernelspec": {
   "display_name": "Python 3",
   "language": "python",
   "name": "python3"
  },
  "language_info": {
   "codemirror_mode": {
    "name": "ipython",
    "version": 3
   },
   "file_extension": ".py",
   "mimetype": "text/x-python",
   "name": "python",
   "nbconvert_exporter": "python",
   "pygments_lexer": "ipython3",
   "version": "3.7.1"
  }
 },
 "nbformat": 4,
 "nbformat_minor": 2
}
